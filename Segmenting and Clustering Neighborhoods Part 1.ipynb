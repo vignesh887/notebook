{
    "cells": [
        {
            "cell_type": "code",
            "execution_count": 1,
            "metadata": {},
            "outputs": [
                {
                    "ename": "ModuleNotFoundError",
                    "evalue": "No module named 'folium'",
                    "output_type": "error",
                    "traceback": [
                        "\u001b[0;31m---------------------------------------------------------------------------\u001b[0m",
                        "\u001b[0;31mModuleNotFoundError\u001b[0m                       Traceback (most recent call last)",
                        "\u001b[0;32m<ipython-input-1-125f5986bbf2>\u001b[0m in \u001b[0;36m<module>\u001b[0;34m\u001b[0m\n\u001b[1;32m     21\u001b[0m \u001b[0;32mfrom\u001b[0m \u001b[0msklearn\u001b[0m\u001b[0;34m.\u001b[0m\u001b[0mcluster\u001b[0m \u001b[0;32mimport\u001b[0m \u001b[0mKMeans\u001b[0m\u001b[0;34m\u001b[0m\u001b[0;34m\u001b[0m\u001b[0m\n\u001b[1;32m     22\u001b[0m \u001b[0;34m\u001b[0m\u001b[0m\n\u001b[0;32m---> 23\u001b[0;31m \u001b[0;32mimport\u001b[0m \u001b[0mfolium\u001b[0m \u001b[0;31m# map rendering library\u001b[0m\u001b[0;34m\u001b[0m\u001b[0;34m\u001b[0m\u001b[0m\n\u001b[0m\u001b[1;32m     24\u001b[0m \u001b[0;34m\u001b[0m\u001b[0m\n\u001b[1;32m     25\u001b[0m \u001b[0mprint\u001b[0m\u001b[0;34m(\u001b[0m\u001b[0;34m\"Libraries imported.\"\u001b[0m\u001b[0;34m)\u001b[0m\u001b[0;34m\u001b[0m\u001b[0;34m\u001b[0m\u001b[0m\n",
                        "\u001b[0;31mModuleNotFoundError\u001b[0m: No module named 'folium'"
                    ]
                }
            ],
            "source": "import numpy as np # library to handle data in a vectorized manner\n\nimport pandas as pd # library for data analsysis\npd.set_option(\"display.max_columns\", None)\npd.set_option(\"display.max_rows\", None)\n\nimport json # library to handle JSON files\n\nfrom geopy.geocoders import Nominatim # convert an address into latitude and longitude values\n\nimport requests # library to handle requests\nfrom bs4 import BeautifulSoup # library to parse HTML and XML documents\n\nfrom pandas.io.json import json_normalize # tranform JSON file into a pandas dataframe\n\n# Matplotlib and associated plotting modules\nimport matplotlib.cm as cm\nimport matplotlib.colors as colors\n\n# import k-means from clustering stage\nfrom sklearn.cluster import KMeans\n\nimport folium # map rendering library\n\nprint(\"Libraries imported.\")"
        },
        {
            "cell_type": "code",
            "execution_count": 2,
            "metadata": {},
            "outputs": [],
            "source": "data = requests.get('https://en.wikipedia.org/wiki/List_of_postal_codes_of_Canada:_M').text"
        },
        {
            "cell_type": "code",
            "execution_count": 3,
            "metadata": {},
            "outputs": [],
            "source": "soup = BeautifulSoup(data, 'html.parser')"
        },
        {
            "cell_type": "code",
            "execution_count": 4,
            "metadata": {},
            "outputs": [],
            "source": "postalCodeList = []\nboroughList = []\nneighborhoodList = []"
        },
        {
            "cell_type": "code",
            "execution_count": 5,
            "metadata": {},
            "outputs": [],
            "source": "# find the table\nsoup.find('table').find_all('tr')\n\n# find all the rows of the table\nsoup.find('table').find_all('tr')\n\n# for each row of the table, find all the table data\nfor row in soup.find('table').find_all('tr'):\n    cells = row.find_all('td')"
        },
        {
            "cell_type": "code",
            "execution_count": 6,
            "metadata": {},
            "outputs": [],
            "source": "for row in soup.find('table').find_all('tr'):\n    cells = row.find_all('td')\n    if(len(cells) > 0):\n        postalCodeList.append(cells[0].text)\n        boroughList.append(cells[1].text)\n        neighborhoodList.append(cells[2].text.rstrip('\\n'))"
        },
        {
            "cell_type": "code",
            "execution_count": 8,
            "metadata": {},
            "outputs": [
                {
                    "data": {
                        "text/html": "<div>\n<style scoped>\n    .dataframe tbody tr th:only-of-type {\n        vertical-align: middle;\n    }\n\n    .dataframe tbody tr th {\n        vertical-align: top;\n    }\n\n    .dataframe thead th {\n        text-align: right;\n    }\n</style>\n<table border=\"1\" class=\"dataframe\">\n  <thead>\n    <tr style=\"text-align: right;\">\n      <th></th>\n      <th>PostalCode</th>\n      <th>Borough</th>\n      <th>Neighborhood</th>\n    </tr>\n  </thead>\n  <tbody>\n    <tr>\n      <th>0</th>\n      <td>M1A\\n</td>\n      <td>Not assigned\\n</td>\n      <td>Not assigned</td>\n    </tr>\n    <tr>\n      <th>1</th>\n      <td>M2A\\n</td>\n      <td>Not assigned\\n</td>\n      <td>Not assigned</td>\n    </tr>\n    <tr>\n      <th>2</th>\n      <td>M3A\\n</td>\n      <td>North York\\n</td>\n      <td>Parkwoods</td>\n    </tr>\n    <tr>\n      <th>3</th>\n      <td>M4A\\n</td>\n      <td>North York\\n</td>\n      <td>Victoria Village</td>\n    </tr>\n    <tr>\n      <th>4</th>\n      <td>M5A\\n</td>\n      <td>Downtown Toronto\\n</td>\n      <td>Regent Park, Harbourfront</td>\n    </tr>\n  </tbody>\n</table>\n</div>",
                        "text/plain": "  PostalCode             Borough               Neighborhood\n0      M1A\\n      Not assigned\\n               Not assigned\n1      M2A\\n      Not assigned\\n               Not assigned\n2      M3A\\n        North York\\n                  Parkwoods\n3      M4A\\n        North York\\n           Victoria Village\n4      M5A\\n  Downtown Toronto\\n  Regent Park, Harbourfront"
                    },
                    "execution_count": 8,
                    "metadata": {},
                    "output_type": "execute_result"
                }
            ],
            "source": "# create a new DataFrame from the three lists\ntoronto_df = pd.DataFrame({\"PostalCode\": postalCodeList,\n                           \"Borough\": boroughList,\n                           \"Neighborhood\": neighborhoodList})\n\ntoronto_df.head()"
        },
        {
            "cell_type": "code",
            "execution_count": 9,
            "metadata": {},
            "outputs": [
                {
                    "data": {
                        "text/html": "<div>\n<style scoped>\n    .dataframe tbody tr th:only-of-type {\n        vertical-align: middle;\n    }\n\n    .dataframe tbody tr th {\n        vertical-align: top;\n    }\n\n    .dataframe thead th {\n        text-align: right;\n    }\n</style>\n<table border=\"1\" class=\"dataframe\">\n  <thead>\n    <tr style=\"text-align: right;\">\n      <th></th>\n      <th>PostalCode</th>\n      <th>Borough</th>\n      <th>Neighborhood</th>\n    </tr>\n  </thead>\n  <tbody>\n    <tr>\n      <th>0</th>\n      <td>M1A\\n</td>\n      <td>Not assigned\\n</td>\n      <td>Not assigned</td>\n    </tr>\n    <tr>\n      <th>1</th>\n      <td>M2A\\n</td>\n      <td>Not assigned\\n</td>\n      <td>Not assigned</td>\n    </tr>\n    <tr>\n      <th>2</th>\n      <td>M3A\\n</td>\n      <td>North York\\n</td>\n      <td>Parkwoods</td>\n    </tr>\n    <tr>\n      <th>3</th>\n      <td>M4A\\n</td>\n      <td>North York\\n</td>\n      <td>Victoria Village</td>\n    </tr>\n    <tr>\n      <th>4</th>\n      <td>M5A\\n</td>\n      <td>Downtown Toronto\\n</td>\n      <td>Regent Park, Harbourfront</td>\n    </tr>\n  </tbody>\n</table>\n</div>",
                        "text/plain": "  PostalCode             Borough               Neighborhood\n0      M1A\\n      Not assigned\\n               Not assigned\n1      M2A\\n      Not assigned\\n               Not assigned\n2      M3A\\n        North York\\n                  Parkwoods\n3      M4A\\n        North York\\n           Victoria Village\n4      M5A\\n  Downtown Toronto\\n  Regent Park, Harbourfront"
                    },
                    "execution_count": 9,
                    "metadata": {},
                    "output_type": "execute_result"
                }
            ],
            "source": "toronto_df_dropna = toronto_df[toronto_df.Borough != \"Not assigned\"].reset_index(drop=True)\ntoronto_df_dropna.head()"
        },
        {
            "cell_type": "code",
            "execution_count": 11,
            "metadata": {},
            "outputs": [
                {
                    "data": {
                        "text/html": "<div>\n<style scoped>\n    .dataframe tbody tr th:only-of-type {\n        vertical-align: middle;\n    }\n\n    .dataframe tbody tr th {\n        vertical-align: top;\n    }\n\n    .dataframe thead th {\n        text-align: right;\n    }\n</style>\n<table border=\"1\" class=\"dataframe\">\n  <thead>\n    <tr style=\"text-align: right;\">\n      <th></th>\n      <th>PostalCode</th>\n      <th>Borough</th>\n      <th>Neighborhood</th>\n    </tr>\n  </thead>\n  <tbody>\n    <tr>\n      <th>0</th>\n      <td>M1A\\n</td>\n      <td>Not assigned\\n</td>\n      <td>Not assigned</td>\n    </tr>\n    <tr>\n      <th>1</th>\n      <td>M1B\\n</td>\n      <td>Scarborough\\n</td>\n      <td>Malvern, Rouge</td>\n    </tr>\n    <tr>\n      <th>2</th>\n      <td>M1C\\n</td>\n      <td>Scarborough\\n</td>\n      <td>Rouge Hill, Port Union, Highland Creek</td>\n    </tr>\n    <tr>\n      <th>3</th>\n      <td>M1E\\n</td>\n      <td>Scarborough\\n</td>\n      <td>Guildwood, Morningside, West Hill</td>\n    </tr>\n    <tr>\n      <th>4</th>\n      <td>M1G\\n</td>\n      <td>Scarborough\\n</td>\n      <td>Woburn</td>\n    </tr>\n  </tbody>\n</table>\n</div>",
                        "text/plain": "  PostalCode         Borough                            Neighborhood\n0      M1A\\n  Not assigned\\n                            Not assigned\n1      M1B\\n   Scarborough\\n                          Malvern, Rouge\n2      M1C\\n   Scarborough\\n  Rouge Hill, Port Union, Highland Creek\n3      M1E\\n   Scarborough\\n       Guildwood, Morningside, West Hill\n4      M1G\\n   Scarborough\\n                                  Woburn"
                    },
                    "execution_count": 11,
                    "metadata": {},
                    "output_type": "execute_result"
                }
            ],
            "source": "toronto_df_grouped = toronto_df_dropna.groupby([\"PostalCode\", \"Borough\"], as_index=False).agg(lambda x: \", \".join(x))\ntoronto_df_grouped.head()"
        },
        {
            "cell_type": "code",
            "execution_count": 12,
            "metadata": {},
            "outputs": [
                {
                    "data": {
                        "text/html": "<div>\n<style scoped>\n    .dataframe tbody tr th:only-of-type {\n        vertical-align: middle;\n    }\n\n    .dataframe tbody tr th {\n        vertical-align: top;\n    }\n\n    .dataframe thead th {\n        text-align: right;\n    }\n</style>\n<table border=\"1\" class=\"dataframe\">\n  <thead>\n    <tr style=\"text-align: right;\">\n      <th></th>\n      <th>PostalCode</th>\n      <th>Borough</th>\n      <th>Neighborhood</th>\n    </tr>\n  </thead>\n  <tbody>\n    <tr>\n      <th>0</th>\n      <td>M1A\\n</td>\n      <td>Not assigned\\n</td>\n      <td>Not assigned\\n</td>\n    </tr>\n    <tr>\n      <th>1</th>\n      <td>M1B\\n</td>\n      <td>Scarborough\\n</td>\n      <td>Malvern, Rouge</td>\n    </tr>\n    <tr>\n      <th>2</th>\n      <td>M1C\\n</td>\n      <td>Scarborough\\n</td>\n      <td>Rouge Hill, Port Union, Highland Creek</td>\n    </tr>\n    <tr>\n      <th>3</th>\n      <td>M1E\\n</td>\n      <td>Scarborough\\n</td>\n      <td>Guildwood, Morningside, West Hill</td>\n    </tr>\n    <tr>\n      <th>4</th>\n      <td>M1G\\n</td>\n      <td>Scarborough\\n</td>\n      <td>Woburn</td>\n    </tr>\n  </tbody>\n</table>\n</div>",
                        "text/plain": "  PostalCode         Borough                            Neighborhood\n0      M1A\\n  Not assigned\\n                          Not assigned\\n\n1      M1B\\n   Scarborough\\n                          Malvern, Rouge\n2      M1C\\n   Scarborough\\n  Rouge Hill, Port Union, Highland Creek\n3      M1E\\n   Scarborough\\n       Guildwood, Morningside, West Hill\n4      M1G\\n   Scarborough\\n                                  Woburn"
                    },
                    "execution_count": 12,
                    "metadata": {},
                    "output_type": "execute_result"
                }
            ],
            "source": "for index, row in toronto_df_grouped.iterrows():\n    if row[\"Neighborhood\"] == \"Not assigned\":\n        row[\"Neighborhood\"] = row[\"Borough\"]\n        \ntoronto_df_grouped.head()"
        },
        {
            "cell_type": "code",
            "execution_count": 13,
            "metadata": {},
            "outputs": [
                {
                    "data": {
                        "text/html": "<div>\n<style scoped>\n    .dataframe tbody tr th:only-of-type {\n        vertical-align: middle;\n    }\n\n    .dataframe tbody tr th {\n        vertical-align: top;\n    }\n\n    .dataframe thead th {\n        text-align: right;\n    }\n</style>\n<table border=\"1\" class=\"dataframe\">\n  <thead>\n    <tr style=\"text-align: right;\">\n      <th></th>\n      <th>PostalCode</th>\n      <th>Borough</th>\n      <th>Neighborhood</th>\n    </tr>\n  </thead>\n  <tbody>\n  </tbody>\n</table>\n</div>",
                        "text/plain": "Empty DataFrame\nColumns: [PostalCode, Borough, Neighborhood]\nIndex: []"
                    },
                    "execution_count": 13,
                    "metadata": {},
                    "output_type": "execute_result"
                }
            ],
            "source": "column_names = [\"PostalCode\", \"Borough\", \"Neighborhood\"]\ntest_df = pd.DataFrame(columns=column_names)\n\ntest_list = [\"M5G\", \"M2H\", \"M4B\", \"M1J\", \"M4G\", \"M4M\", \"M1R\", \"M9V\", \"M9L\", \"M5V\", \"M1B\", \"M5A\"]\n\nfor postcode in test_list:\n    test_df = test_df.append(toronto_df_grouped[toronto_df_grouped[\"PostalCode\"]==postcode], ignore_index=True)\n    \ntest_df"
        },
        {
            "cell_type": "code",
            "execution_count": 14,
            "metadata": {},
            "outputs": [
                {
                    "data": {
                        "text/plain": "(180, 3)"
                    },
                    "execution_count": 14,
                    "metadata": {},
                    "output_type": "execute_result"
                }
            ],
            "source": "toronto_df_grouped.shape"
        }
    ],
    "metadata": {
        "kernelspec": {
            "display_name": "Python 3.6",
            "language": "python",
            "name": "python3"
        },
        "language_info": {
            "codemirror_mode": {
                "name": "ipython",
                "version": 3
            },
            "file_extension": ".py",
            "mimetype": "text/x-python",
            "name": "python",
            "nbconvert_exporter": "python",
            "pygments_lexer": "ipython3",
            "version": "3.6.9"
        }
    },
    "nbformat": 4,
    "nbformat_minor": 1
}